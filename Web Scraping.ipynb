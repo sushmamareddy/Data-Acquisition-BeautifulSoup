{
 "cells": [
  {
   "cell_type": "markdown",
   "metadata": {},
   "source": [
    "## Fetching Data"
   ]
  },
  {
   "cell_type": "code",
   "execution_count": 67,
   "metadata": {},
   "outputs": [],
   "source": [
    "import bs4"
   ]
  },
  {
   "cell_type": "code",
   "execution_count": 9,
   "metadata": {},
   "outputs": [],
   "source": [
    "from urllib.request import urlopen"
   ]
  },
  {
   "cell_type": "code",
   "execution_count": 10,
   "metadata": {},
   "outputs": [],
   "source": [
    "android_url=\"https://en.wikipedia.org/wiki/Android_version_history\""
   ]
  },
  {
   "cell_type": "code",
   "execution_count": 11,
   "metadata": {},
   "outputs": [
    {
     "name": "stdout",
     "output_type": "stream",
     "text": [
      "<class 'http.client.HTTPResponse'>\n"
     ]
    }
   ],
   "source": [
    "android_data = urlopen(android_url)\n",
    "print(type(android_data))"
   ]
  },
  {
   "cell_type": "code",
   "execution_count": 66,
   "metadata": {},
   "outputs": [],
   "source": [
    "android_html=android_data.read()\n",
    "android_data.close()"
   ]
  },
  {
   "cell_type": "markdown",
   "metadata": {},
   "source": [
    "## Using BeautifulSoup"
   ]
  },
  {
   "cell_type": "code",
   "execution_count": 13,
   "metadata": {},
   "outputs": [],
   "source": [
    "from bs4 import BeautifulSoup as soup"
   ]
  },
  {
   "cell_type": "code",
   "execution_count": 68,
   "metadata": {},
   "outputs": [],
   "source": [
    "android_soup =  soup(android_html,'html.parser')"
   ]
  },
  {
   "cell_type": "code",
   "execution_count": 28,
   "metadata": {},
   "outputs": [
    {
     "name": "stdout",
     "output_type": "stream",
     "text": [
      "<class 'bs4.BeautifulSoup'>\n"
     ]
    }
   ],
   "source": [
    "print(type(android_soup))"
   ]
  },
  {
   "cell_type": "code",
   "execution_count": 29,
   "metadata": {},
   "outputs": [
    {
     "data": {
      "text/plain": [
       "<h1 class=\"firstHeading\" id=\"firstHeading\" lang=\"en\">Android version history</h1>"
      ]
     },
     "execution_count": 29,
     "metadata": {},
     "output_type": "execute_result"
    }
   ],
   "source": [
    "android_soup.h1"
   ]
  },
  {
   "cell_type": "code",
   "execution_count": 30,
   "metadata": {},
   "outputs": [
    {
     "data": {
      "text/plain": [
       "[<h1 class=\"firstHeading\" id=\"firstHeading\" lang=\"en\">Android version history</h1>]"
      ]
     },
     "execution_count": 30,
     "metadata": {},
     "output_type": "execute_result"
    }
   ],
   "source": [
    "android_soup.findAll('h1',{})"
   ]
  },
  {
   "cell_type": "code",
   "execution_count": 31,
   "metadata": {},
   "outputs": [],
   "source": [
    "tables=android_soup.findAll('table',{'class' : 'wikitable'})"
   ]
  },
  {
   "cell_type": "code",
   "execution_count": 32,
   "metadata": {},
   "outputs": [
    {
     "data": {
      "text/plain": [
       "31"
      ]
     },
     "execution_count": 32,
     "metadata": {},
     "output_type": "execute_result"
    }
   ],
   "source": [
    "len(tables)"
   ]
  },
  {
   "cell_type": "code",
   "execution_count": 69,
   "metadata": {},
   "outputs": [],
   "source": [
    "android_table = tables[0]"
   ]
  },
  {
   "cell_type": "markdown",
   "metadata": {},
   "source": [
    "## Parsing HTML  Tables"
   ]
  },
  {
   "cell_type": "code",
   "execution_count": 34,
   "metadata": {},
   "outputs": [],
   "source": [
    "headers = android_table.findAll('th')"
   ]
  },
  {
   "cell_type": "code",
   "execution_count": 35,
   "metadata": {},
   "outputs": [
    {
     "data": {
      "text/plain": [
       "[<th>Name\n",
       " </th>, <th>Version number(s)\n",
       " </th>, <th>Initial stable<br/>release date\n",
       " </th>, <th>Supported (security fixes)\n",
       " </th>, <th>API level\n",
       " </th>, <th>References\n",
       " </th>]"
      ]
     },
     "execution_count": 35,
     "metadata": {},
     "output_type": "execute_result"
    }
   ],
   "source": [
    "headers"
   ]
  },
  {
   "cell_type": "code",
   "execution_count": 39,
   "metadata": {},
   "outputs": [],
   "source": [
    "column_titles = [ct.text[:-1] for ct in headers]"
   ]
  },
  {
   "cell_type": "code",
   "execution_count": 40,
   "metadata": {},
   "outputs": [
    {
     "data": {
      "text/plain": [
       "['Name',\n",
       " 'Version number(s)',\n",
       " 'Initial stablerelease date',\n",
       " 'Supported (security fixes)',\n",
       " 'API level',\n",
       " 'References']"
      ]
     },
     "execution_count": 40,
     "metadata": {},
     "output_type": "execute_result"
    }
   ],
   "source": [
    "column_titles"
   ]
  },
  {
   "cell_type": "code",
   "execution_count": 41,
   "metadata": {},
   "outputs": [],
   "source": [
    "rows_data = android_table.findAll('tr')[1:]"
   ]
  },
  {
   "cell_type": "code",
   "execution_count": 43,
   "metadata": {},
   "outputs": [
    {
     "name": "stdout",
     "output_type": "stream",
     "text": [
      "18\n"
     ]
    }
   ],
   "source": [
    "print(len(rows_data))"
   ]
  },
  {
   "cell_type": "code",
   "execution_count": 44,
   "metadata": {},
   "outputs": [
    {
     "name": "stdout",
     "output_type": "stream",
     "text": [
      "<tr>\n",
      "<td rowspan=\"2\">No official codename\n",
      "</td>\n",
      "<td>1.0\n",
      "</td>\n",
      "<td>September 23, 2008\n",
      "</td>\n",
      "<td class=\"table-no\" style=\"background:#F99;vertical-align:middle;text-align:center;\">No\n",
      "</td>\n",
      "<td>1\n",
      "</td>\n",
      "<td><sup class=\"reference\" id=\"cite_ref-unofficial_and_official_codenames_9-1\"><a href=\"#cite_note-unofficial_and_official_codenames-9\">[9]</a></sup>\n",
      "</td></tr>\n"
     ]
    }
   ],
   "source": [
    "first_row = rows_data[0]\n",
    "print(first_row)"
   ]
  },
  {
   "cell_type": "code",
   "execution_count": 47,
   "metadata": {},
   "outputs": [
    {
     "name": "stdout",
     "output_type": "stream",
     "text": [
      "No official codename\n",
      "1.0\n",
      "September 23, 2008\n",
      "No\n",
      "1\n",
      "[9]\n"
     ]
    }
   ],
   "source": [
    "first_row = rows_data[0].findAll('td',{})\n",
    "for d in first_row:\n",
    "    print(d.text[:-1])"
   ]
  },
  {
   "cell_type": "code",
   "execution_count": 53,
   "metadata": {},
   "outputs": [],
   "source": [
    "table_rows=[]\n",
    "for row in rows_data:\n",
    "    current_row=[]\n",
    "    row_data= row.findAll('td')\n",
    "    for idx,data in enumerate(row_data):\n",
    "        current_row.append(data.text[:-1])\n",
    "    table_rows.append(current_row)"
   ]
  },
  {
   "cell_type": "code",
   "execution_count": 54,
   "metadata": {},
   "outputs": [
    {
     "name": "stdout",
     "output_type": "stream",
     "text": [
      "[['No official codename', '1.0', 'September 23, 2008', 'No', '1', '[9]'], ['1.1', 'February 9, 2009', 'No', '2', '[9][14]'], ['Cupcake', '1.5', 'April 27, 2009', 'No', '3', '[15]'], ['Donut', '1.6', 'September 15, 2009', 'No', '4', '[16]'], ['Eclair', '2.0 – 2.1', 'October 26, 2009', 'No', '5 – 7', '[17]'], ['Froyo', '2.2 – 2.2.3', 'May 20, 2010', 'No', '8', '[18]'], ['Gingerbread', '2.3 – 2.3.7', 'December 6, 2010', 'No', '9 – 10', '[19]'], ['Honeycomb', '3.0 – 3.2.6', 'February 22, 2011', 'No', '11 – 13', '[20]'], ['Ice Cream Sandwich', '4.0 – 4.0.4', 'October 18, 2011', 'No', '14 – 15', '[21]'], ['Jelly Bean', '4.1 – 4.3.1', 'July 9, 2012', 'No', '16 – 18', '[22]'], ['KitKat', '4.4 – 4.4.4', 'October 31, 2013', 'No', '19 – 20', '[23]'], ['Lollipop', '5.0 – 5.1.1', 'November 12, 2014', 'No', '21 – 22', '[24]'], ['Marshmallow', '6.0 – 6.0.1', 'October 5, 2015', 'No', '23', '[25]'], ['Nougat', '7.0 – 7.1.2', 'August 22, 2016', 'No', '24 – 25', '[26][27][28][29]'], ['Oreo', '8.0 – 8.1', 'August 21, 2017', 'Yes', '26 – 27', '[30]'], ['Pie', '9', 'August 6, 2018', 'Yes', '28', '[31]'], ['Android 10', '10', 'September 3, 2019', 'Yes', '29', '[32]'], ['Android 11', '11', '[to be determined]', 'Beta', '30', '[33]']]\n"
     ]
    }
   ],
   "source": [
    "print(table_rows)"
   ]
  },
  {
   "cell_type": "markdown",
   "metadata": {},
   "source": [
    "## Creating CSV "
   ]
  },
  {
   "cell_type": "code",
   "execution_count": 63,
   "metadata": {},
   "outputs": [],
   "source": [
    "filename = 'android_version_history.csv'\n",
    "with open(filename,'w',encoding='utf-8') as f:\n",
    "    #write the header\n",
    "    header_string = ','.join(column_titles)\n",
    "    header_string+='\\n'\n",
    "    f.write(header_string)\n",
    "    for row in table_rows:\n",
    "        row_string=\"\"\n",
    "        for w in row:\n",
    "            w=w.replace(',','')\n",
    "            row_string+=w+','\n",
    "        row_string=row_string[:-1]\n",
    "        row_string+='\\n'\n",
    "        f.write(row_string)"
   ]
  },
  {
   "cell_type": "code",
   "execution_count": 64,
   "metadata": {},
   "outputs": [],
   "source": [
    "import pandas as pd\n",
    "data=pd.read_csv('android_version_history.csv')"
   ]
  },
  {
   "cell_type": "code",
   "execution_count": 65,
   "metadata": {},
   "outputs": [
    {
     "data": {
      "text/html": [
       "<div>\n",
       "<style scoped>\n",
       "    .dataframe tbody tr th:only-of-type {\n",
       "        vertical-align: middle;\n",
       "    }\n",
       "\n",
       "    .dataframe tbody tr th {\n",
       "        vertical-align: top;\n",
       "    }\n",
       "\n",
       "    .dataframe thead th {\n",
       "        text-align: right;\n",
       "    }\n",
       "</style>\n",
       "<table border=\"1\" class=\"dataframe\">\n",
       "  <thead>\n",
       "    <tr style=\"text-align: right;\">\n",
       "      <th></th>\n",
       "      <th>Name</th>\n",
       "      <th>Version number(s)</th>\n",
       "      <th>Initial stablerelease date</th>\n",
       "      <th>Supported (security fixes)</th>\n",
       "      <th>API level</th>\n",
       "      <th>References</th>\n",
       "    </tr>\n",
       "  </thead>\n",
       "  <tbody>\n",
       "    <tr>\n",
       "      <td>0</td>\n",
       "      <td>No official codename</td>\n",
       "      <td>1.0</td>\n",
       "      <td>September 23 2008</td>\n",
       "      <td>No</td>\n",
       "      <td>1</td>\n",
       "      <td>[9]</td>\n",
       "    </tr>\n",
       "    <tr>\n",
       "      <td>1</td>\n",
       "      <td>1.1</td>\n",
       "      <td>February 9 2009</td>\n",
       "      <td>No</td>\n",
       "      <td>2</td>\n",
       "      <td>[9][14]</td>\n",
       "      <td>NaN</td>\n",
       "    </tr>\n",
       "    <tr>\n",
       "      <td>2</td>\n",
       "      <td>Cupcake</td>\n",
       "      <td>1.5</td>\n",
       "      <td>April 27 2009</td>\n",
       "      <td>No</td>\n",
       "      <td>3</td>\n",
       "      <td>[15]</td>\n",
       "    </tr>\n",
       "    <tr>\n",
       "      <td>3</td>\n",
       "      <td>Donut</td>\n",
       "      <td>1.6</td>\n",
       "      <td>September 15 2009</td>\n",
       "      <td>No</td>\n",
       "      <td>4</td>\n",
       "      <td>[16]</td>\n",
       "    </tr>\n",
       "    <tr>\n",
       "      <td>4</td>\n",
       "      <td>Eclair</td>\n",
       "      <td>2.0 – 2.1</td>\n",
       "      <td>October 26 2009</td>\n",
       "      <td>No</td>\n",
       "      <td>5 – 7</td>\n",
       "      <td>[17]</td>\n",
       "    </tr>\n",
       "    <tr>\n",
       "      <td>5</td>\n",
       "      <td>Froyo</td>\n",
       "      <td>2.2 – 2.2.3</td>\n",
       "      <td>May 20 2010</td>\n",
       "      <td>No</td>\n",
       "      <td>8</td>\n",
       "      <td>[18]</td>\n",
       "    </tr>\n",
       "    <tr>\n",
       "      <td>6</td>\n",
       "      <td>Gingerbread</td>\n",
       "      <td>2.3 – 2.3.7</td>\n",
       "      <td>December 6 2010</td>\n",
       "      <td>No</td>\n",
       "      <td>9 – 10</td>\n",
       "      <td>[19]</td>\n",
       "    </tr>\n",
       "    <tr>\n",
       "      <td>7</td>\n",
       "      <td>Honeycomb</td>\n",
       "      <td>3.0 – 3.2.6</td>\n",
       "      <td>February 22 2011</td>\n",
       "      <td>No</td>\n",
       "      <td>11 – 13</td>\n",
       "      <td>[20]</td>\n",
       "    </tr>\n",
       "    <tr>\n",
       "      <td>8</td>\n",
       "      <td>Ice Cream Sandwich</td>\n",
       "      <td>4.0 – 4.0.4</td>\n",
       "      <td>October 18 2011</td>\n",
       "      <td>No</td>\n",
       "      <td>14 – 15</td>\n",
       "      <td>[21]</td>\n",
       "    </tr>\n",
       "    <tr>\n",
       "      <td>9</td>\n",
       "      <td>Jelly Bean</td>\n",
       "      <td>4.1 – 4.3.1</td>\n",
       "      <td>July 9 2012</td>\n",
       "      <td>No</td>\n",
       "      <td>16 – 18</td>\n",
       "      <td>[22]</td>\n",
       "    </tr>\n",
       "  </tbody>\n",
       "</table>\n",
       "</div>"
      ],
      "text/plain": [
       "                   Name Version number(s) Initial stablerelease date  \\\n",
       "0  No official codename               1.0          September 23 2008   \n",
       "1                   1.1   February 9 2009                         No   \n",
       "2               Cupcake               1.5              April 27 2009   \n",
       "3                 Donut               1.6          September 15 2009   \n",
       "4                Eclair         2.0 – 2.1            October 26 2009   \n",
       "5                 Froyo       2.2 – 2.2.3                May 20 2010   \n",
       "6           Gingerbread       2.3 – 2.3.7            December 6 2010   \n",
       "7             Honeycomb       3.0 – 3.2.6           February 22 2011   \n",
       "8    Ice Cream Sandwich       4.0 – 4.0.4            October 18 2011   \n",
       "9            Jelly Bean       4.1 – 4.3.1                July 9 2012   \n",
       "\n",
       "  Supported (security fixes) API level References  \n",
       "0                         No         1        [9]  \n",
       "1                          2   [9][14]        NaN  \n",
       "2                         No         3       [15]  \n",
       "3                         No         4       [16]  \n",
       "4                         No     5 – 7       [17]  \n",
       "5                         No         8       [18]  \n",
       "6                         No    9 – 10       [19]  \n",
       "7                         No   11 – 13       [20]  \n",
       "8                         No   14 – 15       [21]  \n",
       "9                         No   16 – 18       [22]  "
      ]
     },
     "execution_count": 65,
     "metadata": {},
     "output_type": "execute_result"
    }
   ],
   "source": [
    "data.head(10)"
   ]
  },
  {
   "cell_type": "code",
   "execution_count": null,
   "metadata": {},
   "outputs": [],
   "source": []
  }
 ],
 "metadata": {
  "kernelspec": {
   "display_name": "Python 3",
   "language": "python",
   "name": "python3"
  },
  "language_info": {
   "codemirror_mode": {
    "name": "ipython",
    "version": 3
   },
   "file_extension": ".py",
   "mimetype": "text/x-python",
   "name": "python",
   "nbconvert_exporter": "python",
   "pygments_lexer": "ipython3",
   "version": "3.7.4"
  }
 },
 "nbformat": 4,
 "nbformat_minor": 2
}
